{
 "cells": [
  {
   "cell_type": "markdown",
   "metadata": {},
   "source": [
    "# Homework 5: This or Physics Hack Day\n",
    "\n",
    "Physics 177, Spring 2017 (Prof. Tanedo)  \n",
    "Revised: Monday, May 15th  \n",
    "Due: Tuesday, May 16    \n",
    "\n",
    "Kevin Bleich\n",
    "\n",
    "**Important**: This homework is optional **if** you participate in Physics Hack Day:  \n",
    "http://theory.ucr.edu/PhysicsHackDay/\n",
    "\n",
    "If you do so, please delete all of the cells below and replace it with a link to the Physics Hack Day GitHub repository to which you contributed. \n"
   ]
  },
  {
   "cell_type": "markdown",
   "metadata": {
    "collapsed": true
   },
   "source": [
    "# Physics Hack Day Link\n",
    "\n",
    "https://github.com/kblei001/Physics-Hack-Day"
   ]
  },
  {
   "cell_type": "code",
   "execution_count": null,
   "metadata": {
    "collapsed": true
   },
   "outputs": [],
   "source": []
  }
 ],
 "metadata": {
  "kernelspec": {
   "display_name": "Python 3",
   "language": "python",
   "name": "python3"
  },
  "language_info": {
   "codemirror_mode": {
    "name": "ipython",
    "version": 3
   },
   "file_extension": ".py",
   "mimetype": "text/x-python",
   "name": "python",
   "nbconvert_exporter": "python",
   "pygments_lexer": "ipython3",
   "version": "3.6.0"
  }
 },
 "nbformat": 4,
 "nbformat_minor": 2
}
